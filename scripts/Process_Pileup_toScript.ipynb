{
 "cells": [
  {
   "cell_type": "code",
   "execution_count": 21,
   "metadata": {},
   "outputs": [],
   "source": [
    "import sys\n",
    "import statsmodels.api as sm\n",
    "from collections import Counter\n",
    "import scipy.stats as ss\n",
    "import numpy as np\n",
    "import argparse\n",
    "import os\n",
    "import bgmodule as bg"
   ]
  },
  {
   "cell_type": "code",
   "execution_count": null,
   "metadata": {},
   "outputs": [],
   "source": [
    "parser=argparse.ArgumentParser()\n",
    "parser._optionals.title = \"Flag Arguments\"\n",
    "parser.add_argument('-i', help='Input mpileup file', required=True,default=5000)\n",
    "parser.add_argument('-o', help='Output file name', required=True)\n",
    "parser.add_argument('-vcf', help='Input vcf to check genotypes against.  Optional argument', required=False,default='%#$')\n",
    "parser.add_argument('-vcfD', help='Folder of input vcfs to check genotypes against.  VCF must be named \"chr#.vcf[.gz]\". Optional argument', required=False,default='%#$')\n",
    "parser.add_argument('-id', help='Name of individual in VCF file to check genotypes against', required=False,default=\"%#$\")\n",
    "\n",
    "args = vars(parser.parse_args())"
   ]
  },
  {
   "cell_type": "code",
   "execution_count": 12,
   "metadata": {},
   "outputs": [],
   "source": [
    "# #debugging\n",
    "# args={'i':'',\n",
    "#       'o':'',\n",
    "#       'vcf':'%#$',\n",
    "#       'vcfD':'',\n",
    "#       'id':''}"
   ]
  },
  {
   "cell_type": "code",
   "execution_count": 13,
   "metadata": {},
   "outputs": [],
   "source": [
    "if args['vcf']!=\"%#$\" and args['vcfD']!=\"%#$\":\n",
    "    print \"Both vcf and vcfD were provided.  Using -vcf argument\""
   ]
  },
  {
   "cell_type": "code",
   "execution_count": 14,
   "metadata": {},
   "outputs": [],
   "source": [
    "def getZScore(x,mu,var):\n",
    "    return float(x-mu)/np.sqrt(var)"
   ]
  },
  {
   "cell_type": "code",
   "execution_count": 15,
   "metadata": {},
   "outputs": [],
   "source": [
    "def cleanPileupString(pileup):\n",
    "    new=\"\"\n",
    "    for x in pileup:\n",
    "        if x== 'A' or x == 'C' or x == 'G' or x == 'T':\n",
    "            new+=x\n",
    "    return new"
   ]
  },
  {
   "cell_type": "code",
   "execution_count": 16,
   "metadata": {},
   "outputs": [],
   "source": [
    "def processPileup(pileup,refBase):\n",
    "    pileup=cleanPileupString(pileup)\n",
    "    if len(pileup)==0:\n",
    "        return 'nan','nan','nan','nan'\n",
    "    x=Counter(pileup)\n",
    "    mostCommon=x.most_common()[0]\n",
    "    mca='.' if mostCommon[0]==refBase else mostCommon[0]\n",
    "    if len(x)==1:\n",
    "        if mca=='.':\n",
    "            return mca,mostCommon[1],0,'nan'\n",
    "        else:\n",
    "            return mca,0,mostCommon[1],'nan'\n",
    "    else:\n",
    "        mostCommon2=x.most_common()[1]\n",
    "        if mostCommon[0]==refBase:\n",
    "            mca=mostCommon2[0] \n",
    "            return mca,mostCommon[1],mostCommon2[1],float(mostCommon[1])/(mostCommon[1]+mostCommon2[1])\n",
    "        else:\n",
    "            mca=mostCommon[0]\n",
    "            return mca,mostCommon2[1],mostCommon[1],float(mostCommon2[1])/(mostCommon[1]+mostCommon2[1])"
   ]
  },
  {
   "cell_type": "code",
   "execution_count": 42,
   "metadata": {
    "collapsed": false,
    "deletable": true,
    "editable": true
   },
   "outputs": [],
   "source": [
    "output=[]\n",
    "ps=[]\n",
    "for line in open(args['i']):\n",
    "    line=line.split()\n",
    "    chrom=line[0]\n",
    "    pos=line[1]\n",
    "    refBase=line[2].upper()\n",
    "    pileup=line[4].replace(',',refBase).replace('.',refBase).upper()\n",
    "    mca,rc,ac,mar=processPileup(pileup,refBase)\n",
    "    tot=rc+ac\n",
    "    if mar!='nan':\n",
    "        z=getZScore(rc,0.5*tot,0.5*0.5*tot)\n",
    "        p=ss.norm.sf(abs(z))*2\n",
    "        ps.append(p)\n",
    "        output.append([chrom,pos,refBase,mca,rc,ac,mar,z,p])\n",
    "    else:\n",
    "        output.append([chrom,pos,refBase,mca,rc,ac,mar,'nan','nan'])"
   ]
  },
  {
   "cell_type": "code",
   "execution_count": 18,
   "metadata": {},
   "outputs": [],
   "source": [
    "def openfile(filename, mode='r'):\n",
    "    if filename.endswith('.gz'):\n",
    "        return gzip.open(filename, mode) \n",
    "    else:\n",
    "        return open(filename, mode)"
   ]
  },
  {
   "cell_type": "code",
   "execution_count": 19,
   "metadata": {},
   "outputs": [],
   "source": [
    "genotypes=[]\n",
    "if args['vcf']!=\"%#$\":\n",
    "    for line in open(args['vcf']):\n",
    "        pass"
   ]
  },
  {
   "cell_type": "code",
   "execution_count": 29,
   "metadata": {},
   "outputs": [],
   "source": [
    "genotypes=[]\n",
    "if args['vcfD']!=\"%#$\" and args['vcf']==\"%#$\":\n",
    "    whichSNP=0\n",
    "    while whichSNP < len(output):\n",
    "        whichChrom=output[whichSNP][0]\n",
    "        fn=args['vcfD']+'/'+whichChrom+'.vcf'\n",
    "        if not os.path.exists(fn):\n",
    "            fn+='.gz'\n",
    "            if not os.path.exists(fn):\n",
    "                whichSNP+=1\n",
    "                genotypes.append('nan')\n",
    "                continue\n",
    "        bg.eprint(\"Checking Genotypes in file {0}\".format(fn))\n",
    "        for line in openfile(fn):\n",
    "            if whichSNP>=len(output):\n",
    "                break\n",
    "            curPos=int(output[whichSNP][1])\n",
    "            if line[:2]=='##':\n",
    "                continue\n",
    "            elif line[0]=='#':\n",
    "                try:\n",
    "                    genCol=line.split().index(args['id'])\n",
    "                except:\n",
    "                    print \"{0} not found in header of VCF. Exiting\".format(args['id'])\n",
    "                    asfsdf\n",
    "                    exit()\n",
    "            else:\n",
    "                line=line.split()\n",
    "                position=int(line[1])\n",
    "                if position < curPos:\n",
    "                    continue\n",
    "                elif position==curPos:\n",
    "                    geno=line[genCol][:3]\n",
    "                    genotypes.append(geno)\n",
    "                    whichSNP+=1\n",
    "                    if whichSNP>=len(output):\n",
    "                        break\n",
    "                    if output[whichSNP][0] != whichChrom:\n",
    "                        break\n",
    "                else:\n",
    "                    while position > curPos:\n",
    "                        genotypes.append('nan')\n",
    "                        whichSNP+=1\n",
    "                        if whichSNP>=len(output):\n",
    "                            break\n",
    "                        if output[whichSNP][0] != whichChrom:\n",
    "                            break\n",
    "                        curPos=int(output[whichSNP][1])\n",
    "                    if position==curPos:\n",
    "                        geno=line[genCol][:3]\n",
    "                        geno=line[genCol][:3]\n",
    "                        genotypes.append(geno)\n",
    "                        whichSNP+=1\n",
    "                        if whichSNP>=len(output):\n",
    "                            break\n",
    "                        if output[whichSNP][0] != whichChrom:\n",
    "                            break\n"
   ]
  },
  {
   "cell_type": "code",
   "execution_count": 45,
   "metadata": {},
   "outputs": [],
   "source": [
    "if args['vcf']!='%#$' or args['vcfD']!='%#$':\n",
    "    ps=[]\n",
    "    for i in range(len(output)):\n",
    "        gen=genotypes[i]\n",
    "        if gen[0]==gen[-1]:\n",
    "            continue\n",
    "        x=output[i]\n",
    "        if type(x[-1])!=str:\n",
    "            ps.append(x[-1])\n",
    "    \n",
    "qVals=sm.stats.multipletests(ps,method='fdr_bh')[1]"
   ]
  },
  {
   "cell_type": "code",
   "execution_count": 53,
   "metadata": {},
   "outputs": [],
   "source": [
    "i=0\n",
    "cols=['#Chr','Pos','Ref_Genotype','Most_Common_Alt','Ref Counts','Alt Counts','Ref_Allele_Ratio','Z','p_value','q_value']\n",
    "if args['vcf']!='%#$' or args['vcfD']!='%#$':\n",
    "    cols.append('genotype')\n",
    "\n",
    "with open(args['o'],'w+') as f:\n",
    "    f.write(\"\\t\".join(cols)+\"\\n\")\n",
    "    if args['vcf']!='%#$' or args['vcfD']!='%#$':\n",
    "        for x,g in zip(output,genotypes):\n",
    "            if g[0]==g[-1]:\n",
    "                x.append('nan')\n",
    "            elif type(x[-1])!=str:\n",
    "                x.append(qVals[i])\n",
    "                i+=1\n",
    "            x.append(g)\n",
    "            f.write(\"\\t\".join([str(y) for y in x])+\"\\n\")\n",
    "    else:\n",
    "        for x in output:\n",
    "            if x[7]=='nan':\n",
    "                x.append('nan')\n",
    "            else:\n",
    "                x.append(qVals[i])\n",
    "                i+=1\n",
    "            f.write(\"\\t\".join([str(y) for y in x])+\"\\n\")"
   ]
  }
 ],
 "metadata": {
  "kernelspec": {
   "display_name": "Python 2",
   "language": "python",
   "name": "py27kerneldbfix"
  },
  "language_info": {
   "codemirror_mode": {
    "name": "ipython",
    "version": 2
   },
   "file_extension": ".py",
   "mimetype": "text/x-python",
   "name": "python",
   "nbconvert_exporter": "python",
   "pygments_lexer": "ipython2",
   "version": "2.7.13"
  }
 },
 "nbformat": 4,
 "nbformat_minor": 2
}
