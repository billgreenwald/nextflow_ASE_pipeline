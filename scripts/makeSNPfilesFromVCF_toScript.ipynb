{
 "cells": [
  {
   "cell_type": "code",
   "execution_count": 1,
   "metadata": {},
   "outputs": [],
   "source": [
    "import argparse\n",
    "import os"
   ]
  },
  {
   "cell_type": "code",
   "execution_count": null,
   "metadata": {},
   "outputs": [],
   "source": [
    "parser=argparse.ArgumentParser()\n",
    "parser._optionals.title = \"Flag Arguments\"\n",
    "parser.add_argument('-i',help=\"Input VCF or VCF folder.\", required=True)\n",
    "parser.add_argument('-o',help=\"Oupt SNP directory.\", required=True)\n",
    "parser.add_argument('-dir',help=\"Tells the program -i is specifying a VCF dir.\", action='store_true')\n",
    "parser.add_argument('-pref',help=\"VCF file name within folder with @ for chromsome number (ie some.name.chr@.vcf.\", required=False)\n",
    "parser.add_argument('-chr',help=\"Tells the program chromsomes are 'chr1' instead of '1'.\", action='store_true')\n",
    "args = vars(parser.parse_args())"
   ]
  },
  {
   "cell_type": "code",
   "execution_count": null,
   "metadata": {},
   "outputs": [],
   "source": [
    "if not os.path.exists(args['o']):\n",
    "    os.mkdir(args['o'])"
   ]
  },
  {
   "cell_type": "code",
   "execution_count": null,
   "metadata": {},
   "outputs": [],
   "source": [
    "if args['i'][-3:]==\".gz\":\n",
    "    import gzip\n",
    "    openFile=gzip.open\n",
    "else:\n",
    "    openFile=open"
   ]
  },
  {
   "cell_type": "code",
   "execution_count": null,
   "metadata": {},
   "outputs": [],
   "source": [
    "if not args['dir']:\n",
    "    for line in openFile(args['i']):\n",
    "        if line[0]==\"#\":\n",
    "            continue\n",
    "        line=line.split()\n",
    "        chrom=line[0] if args['chr'] else \"chr\"+line[0]\n",
    "        with open(\"{0}/{1}.snps.txt\".format(args['o'],chrom),'a+') as f:\n",
    "            f.write(\"{0}\\t{1}\\t{2}\\n\".format(line[1],line[3],line[4]))\n",
    "            \n",
    "else:\n",
    "    for c in range(1,23):\n",
    "        chrom=\"chr\"+str(c)\n",
    "        with open(\"{0}/{1}.snps.txt\".format(args['o'],chrom),'a+') as f:\n",
    "            for line in openFile(\"{0}/{1}\".format(args['i'],args['pref'].replace(\"@\",c))):\n",
    "                if line[0]==\"#\":\n",
    "                    continue\n",
    "                line=line.split()\n",
    "                f.write(\"{0}\\t{1}\\t{2}\\n\".format(line[1],line[3],line[4]))\n",
    "            "
   ]
  }
 ],
 "metadata": {
  "kernelspec": {
   "display_name": "Python 2",
   "language": "python",
   "name": "py27kerneldbfix"
  },
  "language_info": {
   "codemirror_mode": {
    "name": "ipython",
    "version": 2
   },
   "file_extension": ".py",
   "mimetype": "text/x-python",
   "name": "python",
   "nbconvert_exporter": "python",
   "pygments_lexer": "ipython2",
   "version": "2.7.13"
  }
 },
 "nbformat": 4,
 "nbformat_minor": 2
}
